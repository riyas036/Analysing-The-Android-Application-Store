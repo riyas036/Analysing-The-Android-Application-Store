{
  "cells": [
    {
      "cell_type": "markdown",
      "metadata": {
        "id": "pmnwTJAbvbtD"
      },
      "source": [
        "# Profitable App Profiles for the App Store and Google Play Markets\n",
        "\n",
        "Our aim in this project is to find mobile app profiles that are profitable for the App Store and Google Play markets. We're working as data analysts for a company that builds Android and iOS mobile apps, and our job is to enable our team of developers to make data-driven decisions with respect to the kind of apps they build.\n",
        "At our company, we only build apps that are free to download and install, and our main source of revenue consists of in-app ads. This means that our revenue for any given app is mostly influenced by the number of users that use our app. Our goal for this project is to analyze data to help our developers understand what kinds of apps are likely to attract more users.\n",
        "\n",
        "# Opening and Exploring the Data\n",
        "As of September 2018, there were approximately 2 million iOS apps available on the App Store, and 2.1 million Android apps on Google Play.\n",
        "\n",
        "Collecting data for over four million apps requires a significant amount of time and money, so we'll try to analyze a sample of data instead. To avoid spending resources with collecting new data ourselves, we should first try to see whether we can find any relevant existing data at no cost. Luckily, these are two data sets that seem suitable for our purpose:\n",
        "\n",
        "A [data set](https://www.kaggle.com/lava18/google-play-store-apps) containing data about approximately ten thousand Android apps from Google Play. \n",
        "\n",
        "A [data set](https://www.kaggle.com/ramamet4/app-store-apple-data-set-10k-apps) containing data about approximately seven thousand iOS apps from the App Store. \n",
        "Let's start by opening the two data sets and then continue with exploring the data.\n",
        "\n",
        "To make it easier to explore the two data sets, we'll first write a function named explore_data() that we can use repeatedly to explore rows in a more readable way. We'll also add an option for our function to show the number of rows and columns for any data set."
      ]
    },
    {
      "cell_type": "code",
      "source": [
        "!git clone https://github.com/riyas036/Analysing-The-Android-Application-Store.git"
      ],
      "metadata": {
        "id": "jDfLPY8QxK36",
        "outputId": "5cae27f6-a09d-46b3-f346-005ac205919b",
        "colab": {
          "base_uri": "https://localhost:8080/"
        }
      },
      "execution_count": 42,
      "outputs": [
        {
          "output_type": "stream",
          "name": "stdout",
          "text": [
            "Cloning into 'Analysing-The-Android-Application-Store'...\n",
            "remote: Enumerating objects: 9, done.\u001b[K\n",
            "remote: Counting objects: 100% (9/9), done.\u001b[K\n",
            "remote: Compressing objects: 100% (7/7), done.\u001b[K\n",
            "remote: Total 9 (delta 0), reused 0 (delta 0), pack-reused 0\u001b[K\n",
            "Unpacking objects: 100% (9/9), 7.51 MiB | 5.66 MiB/s, done.\n"
          ]
        }
      ]
    },
    {
      "cell_type": "code",
      "execution_count": 11,
      "metadata": {
        "id": "KEHLiIykvbtN"
      },
      "outputs": [],
      "source": [
        "def explore_data(dataset, start,end, rows_and_columns= False):\n",
        "    dataset_slice = dataset[start:end]\n",
        "    for row in dataset_slice:\n",
        "        print(row)\n",
        "        print('\\n')\n",
        "        \n",
        "    if rows_and_columns:\n",
        "        print('Number of rows:', len(dataset))\n",
        "        print('Number of columns:', len(dataset[0]))        "
      ]
    },
    {
      "cell_type": "code",
      "execution_count": 43,
      "metadata": {
        "scrolled": true,
        "colab": {
          "base_uri": "https://localhost:8080/"
        },
        "id": "PkFpXO1gvbtS",
        "outputId": "08e11e15-f53e-4d8f-a8c2-20ee44daa70e"
      },
      "outputs": [
        {
          "output_type": "stream",
          "name": "stdout",
          "text": [
            "['App', 'Category', 'Rating', 'Reviews', 'Size', 'Installs', 'Type', 'Price', 'Content Rating', 'Genres', 'Last Updated', 'Current Ver', 'Android Ver']\n",
            "\n",
            "\n",
            "['Photo Editor & Candy Camera & Grid & ScrapBook', 'ART_AND_DESIGN', '4.1', '159', '19M', '10,000+', 'Free', '0', 'Everyone', 'Art & Design', 'January 7, 2018', '1.0.0', '4.0.3 and up']\n",
            "\n",
            "\n",
            "['Coloring book moana', 'ART_AND_DESIGN', '3.9', '967', '14M', '500,000+', 'Free', '0', 'Everyone', 'Art & Design;Pretend Play', 'January 15, 2018', '2.0.0', '4.0.3 and up']\n",
            "\n",
            "\n",
            "['U Launcher Lite – FREE Live Cool Themes, Hide Apps', 'ART_AND_DESIGN', '4.7', '87510', '8.7M', '5,000,000+', 'Free', '0', 'Everyone', 'Art & Design', 'August 1, 2018', '1.2.4', '4.0.3 and up']\n",
            "\n",
            "\n",
            "Number of rows: 10841\n",
            "Number of columns: 13\n"
          ]
        }
      ],
      "source": [
        "from csv import reader\n",
        "open('/content/Analysing-The-Android-Application-Store/AppleStore.csv')\n",
        "ios  = list(reader(open('/content/Analysing-The-Android-Application-Store/AppleStore.csv')))\n",
        "android = list(reader(open('/content/Analysing-The-Android-Application-Store/googleplaystore.csv')))\n",
        "\n",
        "android_header = android[0]\n",
        "android = android[1:]\n",
        "\n",
        "ios_header = ios[0]\n",
        "ios = ios[1:]\n",
        "\n",
        "print(android_header)\n",
        "print('\\n')\n",
        "explore_data(android, 0, 3, True)"
      ]
    },
    {
      "cell_type": "markdown",
      "metadata": {
        "id": "BNJlZ4aRvbtX"
      },
      "source": [
        "\n",
        "We see that the Google Play data set has 10841 apps and 13 columns. At a quick glance, the columns that might be useful for the purpose of our analysis are 'App', 'Category', 'Reviews', 'Installs', 'Type', 'Price', and 'Genres'.\n",
        "\n",
        "Now let's take a look at the App Store data set."
      ]
    },
    {
      "cell_type": "code",
      "execution_count": 13,
      "metadata": {
        "colab": {
          "base_uri": "https://localhost:8080/"
        },
        "id": "azDvRskXvbta",
        "outputId": "5ff6408e-1df9-4166-dab4-20a117f560ab"
      },
      "outputs": [
        {
          "output_type": "stream",
          "name": "stdout",
          "text": [
            "['', 'id', 'track_name', 'size_bytes', 'currency', 'price', 'rating_count_tot', 'rating_count_ver', 'user_rating', 'user_rating_ver', 'ver', 'cont_rating', 'prime_genre', 'sup_devices.num', 'ipadSc_urls.num', 'lang.num', 'vpp_lic']\n",
            "\n",
            "\n",
            "['1', '281656475', 'PAC-MAN Premium', '100788224', 'USD', '3.99', '21292', '26', '4', '4.5', '6.3.5', '4+', 'Games', '38', '5', '10', '1']\n",
            "\n",
            "\n",
            "['2', '281796108', 'Evernote - stay organized', '158578688', 'USD', '0', '161065', '26', '4', '3.5', '8.2.2', '4+', 'Productivity', '37', '5', '23', '1']\n",
            "\n",
            "\n",
            "['3', '281940292', 'WeatherBug - Local Weather, Radar, Maps, Alerts', '100524032', 'USD', '0', '188583', '2822', '3.5', '4.5', '5.0.0', '4+', 'Weather', '37', '5', '3', '1']\n",
            "\n",
            "\n",
            "Number of rows: 7197\n",
            "Number of columns: 17\n"
          ]
        }
      ],
      "source": [
        "print(ios_header)\n",
        "print('\\n')\n",
        "explore_data(ios, 0, 3, True)"
      ]
    },
    {
      "cell_type": "markdown",
      "metadata": {
        "id": "8fTjzGOkvbtf"
      },
      "source": [
        "\n",
        "We have 7197 iOS apps in this data set, and the columns that seem interesting are: 'track_name', 'currency', 'price', 'rating_count_tot', 'rating_count_ver', and 'prime_genre'. Not all column names are self-explanatory in this case, but details about each column can be found in the data set documentation."
      ]
    },
    {
      "cell_type": "markdown",
      "metadata": {
        "id": "_sUuvv3qvbth"
      },
      "source": [
        "# Deleting Wrong Data\n",
        "The Google Play data set has a dedicated [discussion section](https://www.kaggle.com/lava18/google-play-store-apps/discussion), and we can see that one of the discussions outlines an error for row 10472. Let's print this row and compare it against the header and another row that is correct."
      ]
    },
    {
      "cell_type": "code",
      "execution_count": 14,
      "metadata": {
        "colab": {
          "base_uri": "https://localhost:8080/"
        },
        "id": "r3LtVNQ9vbtj",
        "outputId": "05cf3320-f6d9-449f-9ef8-2e420b252976"
      },
      "outputs": [
        {
          "output_type": "stream",
          "name": "stdout",
          "text": [
            "['Life Made WI-Fi Touchscreen Photo Frame', '1.9', '19', '3.0M', '1,000+', 'Free', '0', 'Everyone', '', 'February 11, 2018', '1.0.19', '4.0 and up']\n",
            "\n",
            "\n",
            "['App', 'Category', 'Rating', 'Reviews', 'Size', 'Installs', 'Type', 'Price', 'Content Rating', 'Genres', 'Last Updated', 'Current Ver', 'Android Ver']\n",
            "\n",
            "\n",
            "['Photo Editor & Candy Camera & Grid & ScrapBook', 'ART_AND_DESIGN', '4.1', '159', '19M', '10,000+', 'Free', '0', 'Everyone', 'Art & Design', 'January 7, 2018', '1.0.0', '4.0.3 and up']\n"
          ]
        }
      ],
      "source": [
        "\n",
        "print(android[10472])  # incorrect row\n",
        "print('\\n')\n",
        "print(android_header)  # header\n",
        "print('\\n')\n",
        "print(android[0])      # correct row"
      ]
    },
    {
      "cell_type": "markdown",
      "metadata": {
        "id": "_jwCHdUnvbtk"
      },
      "source": [
        "The row 10472 corresponds to the app Life Made WI-Fi Touchscreen Photo Frame, and we can see that the rating is 19. This is clearly off because the maximum rating for a Google Play app is 5. As a consequence, we'll delete this row."
      ]
    },
    {
      "cell_type": "code",
      "execution_count": 15,
      "metadata": {
        "colab": {
          "base_uri": "https://localhost:8080/"
        },
        "id": "omzdgBmfvbtl",
        "outputId": "175e6422-6340-42d9-bf67-3518f4a441e0"
      },
      "outputs": [
        {
          "output_type": "stream",
          "name": "stdout",
          "text": [
            "10841\n",
            "10840\n"
          ]
        }
      ],
      "source": [
        "print(len(android))\n",
        "del android[10472]  # don't run this more than once\n",
        "print(len(android))"
      ]
    },
    {
      "cell_type": "markdown",
      "metadata": {
        "id": "8ykkJUfWvbtn"
      },
      "source": [
        "# Removing Duplicate Entries\n",
        "## Part One\n",
        "If we explore the Google Play data set long enough, we'll find that some apps have more than one entry. For instance, the application Instagram has four entries:"
      ]
    },
    {
      "cell_type": "code",
      "execution_count": 16,
      "metadata": {
        "colab": {
          "base_uri": "https://localhost:8080/"
        },
        "id": "Lp4iaIDzvbto",
        "outputId": "f381980d-6434-46c0-be38-c8e63022d86e"
      },
      "outputs": [
        {
          "output_type": "stream",
          "name": "stdout",
          "text": [
            "['Instagram', 'SOCIAL', '4.5', '66577313', 'Varies with device', '1,000,000,000+', 'Free', '0', 'Teen', 'Social', 'July 31, 2018', 'Varies with device', 'Varies with device']\n",
            "['Instagram', 'SOCIAL', '4.5', '66577446', 'Varies with device', '1,000,000,000+', 'Free', '0', 'Teen', 'Social', 'July 31, 2018', 'Varies with device', 'Varies with device']\n",
            "['Instagram', 'SOCIAL', '4.5', '66577313', 'Varies with device', '1,000,000,000+', 'Free', '0', 'Teen', 'Social', 'July 31, 2018', 'Varies with device', 'Varies with device']\n",
            "['Instagram', 'SOCIAL', '4.5', '66509917', 'Varies with device', '1,000,000,000+', 'Free', '0', 'Teen', 'Social', 'July 31, 2018', 'Varies with device', 'Varies with device']\n"
          ]
        }
      ],
      "source": [
        "for app in android:\n",
        "    name = app[0]\n",
        "    if name == 'Instagram':\n",
        "        print(app)"
      ]
    },
    {
      "cell_type": "markdown",
      "metadata": {
        "id": "mnMIRPGzvbtp"
      },
      "source": [
        "\n",
        "In total, there are 1,181 cases where an app occurs more than once:"
      ]
    },
    {
      "cell_type": "code",
      "execution_count": 17,
      "metadata": {
        "colab": {
          "base_uri": "https://localhost:8080/"
        },
        "id": "3B3W950Qvbtp",
        "outputId": "5392184c-e0b9-4153-b622-2570292a3e0c"
      },
      "outputs": [
        {
          "output_type": "stream",
          "name": "stdout",
          "text": [
            "Number of duplicate apps: 1181\n",
            "\n",
            "\n",
            "Examples of duplicate apps: ['Quick PDF Scanner + OCR FREE', 'Box', 'Google My Business', 'ZOOM Cloud Meetings', 'join.me - Simple Meetings', 'Box', 'Zenefits', 'Google Ads', 'Google My Business', 'Slack', 'FreshBooks Classic', 'Insightly CRM', 'QuickBooks Accounting: Invoicing & Expenses', 'HipChat - Chat Built for Teams', 'Xero Accounting Software']\n"
          ]
        }
      ],
      "source": [
        "duplicate_apps = []\n",
        "unique_apps = []\n",
        "\n",
        "for app in android:\n",
        "    name = app[0]\n",
        "    if name in unique_apps:\n",
        "        duplicate_apps.append(name)\n",
        "    else:\n",
        "        unique_apps.append(name)\n",
        "    \n",
        "print('Number of duplicate apps:', len(duplicate_apps))\n",
        "print('\\n')\n",
        "print('Examples of duplicate apps:', duplicate_apps[:15])"
      ]
    },
    {
      "cell_type": "markdown",
      "metadata": {
        "id": "GgLMuZgivbtq"
      },
      "source": [
        "Examples of duplicate apps: ['Quick PDF Scanner + OCR FREE', 'Box', 'Google My Business', 'ZOOM Cloud Meetings', 'join.me - Simple Meetings', 'Box', 'Zenefits', 'Google Ads', 'Google My Business', 'Slack', 'FreshBooks Classic', 'Insightly CRM', 'QuickBooks Accounting: Invoicing & Expenses', 'HipChat - Chat Built for Teams', 'Xero Accounting Software']\n",
        "We don't want to count certain apps more than once when we analyze data, so we need to remove the duplicate entries and keep only one entry per app. One thing we could do is remove the duplicate rows randomly, but we could probably find a better way.\n",
        "\n",
        "If you examine the rows we printed two cells above for the Instagram app, the main difference happens on the fourth position of each row, which corresponds to the number of reviews. The different numbers show that the data was collected at different times. We can use this to build a criterion for keeping rows. We won't remove rows randomly, but rather we'll keep the rows that have the highest number of reviews because the higher the number of reviews, the more reliable the ratings.\n",
        "\n",
        "To do that, we will:\n",
        "\n",
        "* Create a dictionary where each key is a unique app name, and the value is the highest number of reviews of that app\n",
        "* Use the dictionary to create a new data set, which will have only one entry per app (and we only select the apps with the highest number of reviews)"
      ]
    },
    {
      "cell_type": "markdown",
      "metadata": {
        "id": "1GXlx-A9vbtq"
      },
      "source": [
        "## Part Two\n",
        "Let's start by building the dictionary."
      ]
    },
    {
      "cell_type": "code",
      "execution_count": 18,
      "metadata": {
        "collapsed": true,
        "id": "Ll1M0KRKvbtr"
      },
      "outputs": [],
      "source": [
        "reviews_max = {}\n",
        "\n",
        "for app in android:\n",
        "    name = app[0]\n",
        "    n_reviews = float(app[3])\n",
        "    \n",
        "    if name in reviews_max and reviews_max[name] < n_reviews:\n",
        "        reviews_max[name] = n_reviews\n",
        "        \n",
        "    elif name not in reviews_max:\n",
        "        reviews_max[name] = n_reviews"
      ]
    },
    {
      "cell_type": "markdown",
      "metadata": {
        "id": "XkUfuqvwvbts"
      },
      "source": [
        "\n",
        "In a previous code cell, we found that there are 1,181 cases where an app occurs more than once, so the length of our dictionary (of unique apps) should be equal to the difference between the length of our data set and 1,181."
      ]
    },
    {
      "cell_type": "code",
      "execution_count": 19,
      "metadata": {
        "colab": {
          "base_uri": "https://localhost:8080/"
        },
        "id": "XQea-GBnvbts",
        "outputId": "c5c9e80c-b56c-48a5-f593-f538326525b9"
      },
      "outputs": [
        {
          "output_type": "stream",
          "name": "stdout",
          "text": [
            "Expected length: 9659\n",
            "Actual length: 9659\n"
          ]
        }
      ],
      "source": [
        "print('Expected length:', len(android) - 1181)\n",
        "print('Actual length:', len(reviews_max))"
      ]
    },
    {
      "cell_type": "markdown",
      "metadata": {
        "collapsed": true,
        "id": "yvA4Gr3ivbtu"
      },
      "source": [
        "Expected length: 9659\n",
        "Actual length: 9659\n",
        "Now, let's use the reviews_max dictionary to remove the duplicates. For the duplicate cases, we'll only keep the entries with the highest number of reviews. In the code cell below:\n",
        "\n",
        "* We start by initializing two empty lists, android_clean and already_added.\n",
        "* We loop through the android data set, and for every iteration:\n",
        "    - We isolate the name of the app and the number of reviews.\n",
        "    - We add the current row (app) to the android_clean list, and the app name (name) to the already_added list if:\n",
        "        + The number of reviews of the current app matches the number of reviews of that app as described in the reviews_max dictionary; and\n",
        "        + The name of the app is not already in the already_added list. We need to add this supplementary condition to account for those cases where the highest number of reviews of a duplicate app is the same for more than one entry (for example, the Box app has three entries, and the number of reviews is the same). If we just check for reviews_max[name] == n_reviews, we'll still end up with duplicate entries for some apps."
      ]
    },
    {
      "cell_type": "code",
      "execution_count": 20,
      "metadata": {
        "collapsed": true,
        "id": "seuZLDigvbtu"
      },
      "outputs": [],
      "source": [
        "android_clean = []\n",
        "already_added = []\n",
        "\n",
        "for app in android:\n",
        "    name = app[0]\n",
        "    n_reviews = float(app[3])\n",
        "    \n",
        "    if (reviews_max[name] == n_reviews) and (name not in already_added):\n",
        "        android_clean.append(app)\n",
        "        already_added.append(name) # make sure this is inside the if block"
      ]
    },
    {
      "cell_type": "markdown",
      "metadata": {
        "id": "9nYqSuYyvbtu"
      },
      "source": [
        "\n",
        "Now let's quickly explore the new data set, and confirm that the number of rows is 9,659."
      ]
    },
    {
      "cell_type": "code",
      "execution_count": 21,
      "metadata": {
        "colab": {
          "base_uri": "https://localhost:8080/"
        },
        "id": "hbKACbYzvbtv",
        "outputId": "6d1a6fc1-e20d-44a2-d5f4-4fa721daad36"
      },
      "outputs": [
        {
          "output_type": "stream",
          "name": "stdout",
          "text": [
            "['Photo Editor & Candy Camera & Grid & ScrapBook', 'ART_AND_DESIGN', '4.1', '159', '19M', '10,000+', 'Free', '0', 'Everyone', 'Art & Design', 'January 7, 2018', '1.0.0', '4.0.3 and up']\n",
            "\n",
            "\n",
            "['U Launcher Lite – FREE Live Cool Themes, Hide Apps', 'ART_AND_DESIGN', '4.7', '87510', '8.7M', '5,000,000+', 'Free', '0', 'Everyone', 'Art & Design', 'August 1, 2018', '1.2.4', '4.0.3 and up']\n",
            "\n",
            "\n",
            "['Sketch - Draw & Paint', 'ART_AND_DESIGN', '4.5', '215644', '25M', '50,000,000+', 'Free', '0', 'Teen', 'Art & Design', 'June 8, 2018', 'Varies with device', '4.2 and up']\n",
            "\n",
            "\n",
            "Number of rows: 9659\n",
            "Number of columns: 13\n"
          ]
        }
      ],
      "source": [
        "explore_data(android_clean, 0, 3, True)"
      ]
    },
    {
      "cell_type": "markdown",
      "metadata": {
        "id": "afVdDuT5vbtv"
      },
      "source": [
        "We have 9659 rows, just as expected."
      ]
    },
    {
      "cell_type": "markdown",
      "metadata": {
        "id": "Jrjsxzbkvbtw"
      },
      "source": [
        "# Removing Non-English Apps\n",
        "## Part one\n",
        "\n",
        "If you explore the data sets enough, you'll notice the names of some of the apps suggest they are not directed toward an English-speaking audience. Below, we see a couple of examples from both data sets:"
      ]
    },
    {
      "cell_type": "code",
      "execution_count": 22,
      "metadata": {
        "colab": {
          "base_uri": "https://localhost:8080/"
        },
        "id": "La_APz4Cvbtw",
        "outputId": "45595d49-a033-44a1-e5b7-7bab54017fc4"
      },
      "outputs": [
        {
          "output_type": "stream",
          "name": "stdout",
          "text": [
            "436672029\n",
            "1144164707\n",
            "中国語 AQリスニング\n",
            "لعبة تقدر تربح DZ\n"
          ]
        }
      ],
      "source": [
        "print(ios[813][1])\n",
        "print(ios[6731][1])\n",
        "\n",
        "print(android_clean[4412][0])\n",
        "print(android_clean[7940][0])"
      ]
    },
    {
      "cell_type": "markdown",
      "metadata": {
        "id": "VpkOgzaavbtw"
      },
      "source": [
        "We're not interested in keeping these kind of apps, so we'll remove them. One way to go about this is to remove each app whose name contains a symbol that is not commonly used in English text — English text usually includes letters from the English alphabet, numbers composed of digits from 0 to 9, punctuation marks (., !, ?, ;, etc.), and other symbols (+, *, /, etc.).\n",
        "\n",
        "All these characters that are specific to English texts are encoded using the ASCII standard. Each ASCII character has a corresponding number between 0 and 127 associated with it, and we can take advantage of that to build a function that checks an app name and tells us whether it contains non-ASCII characters.\n",
        "\n",
        "We built this function below, and we use the built-in ord() function to find out the corresponding encoding number of each character."
      ]
    },
    {
      "cell_type": "code",
      "execution_count": 23,
      "metadata": {
        "colab": {
          "base_uri": "https://localhost:8080/"
        },
        "id": "Y0ijXRyHvbtx",
        "outputId": "5922f230-d4f7-4939-d644-7358f9fa80ed"
      },
      "outputs": [
        {
          "output_type": "stream",
          "name": "stdout",
          "text": [
            "True\n",
            "False\n"
          ]
        }
      ],
      "source": [
        "\n",
        "def is_english(string):\n",
        "    \n",
        "    for character in string:\n",
        "        if ord(character) > 127:\n",
        "            return False\n",
        "    \n",
        "    return True\n",
        "\n",
        "print(is_english('Instagram'))\n",
        "print(is_english('爱奇艺PPS -《欢乐颂2》电视剧热播'))"
      ]
    },
    {
      "cell_type": "markdown",
      "metadata": {
        "id": "2zyRijwYvbtx"
      },
      "source": [
        "\n",
        "The function seems to work fine, but some English app names use emojis or other symbols (™, — (em dash), – (en dash), etc.) that fall outside of the ASCII range. Because of this, we'll remove useful apps if we use the function in its current form."
      ]
    },
    {
      "cell_type": "code",
      "execution_count": 24,
      "metadata": {
        "colab": {
          "base_uri": "https://localhost:8080/"
        },
        "id": "MDAOS2Dsvbtx",
        "outputId": "f3cae0bb-f3e7-4268-8a14-c50ce62e0345"
      },
      "outputs": [
        {
          "output_type": "stream",
          "name": "stdout",
          "text": [
            "False\n",
            "False\n",
            "8482\n",
            "128540\n"
          ]
        }
      ],
      "source": [
        "print(is_english('Docs To Go™ Free Office Suite'))\n",
        "print(is_english('Instachat 😜'))\n",
        "\n",
        "print(ord('™'))\n",
        "print(ord('😜'))"
      ]
    },
    {
      "cell_type": "markdown",
      "metadata": {
        "id": "HQwPpLFTvbty"
      },
      "source": [
        "## Part Two\n",
        "To minimize the impact of data loss, we'll only remove an app if its name has more than three non-ASCII characters:"
      ]
    },
    {
      "cell_type": "code",
      "execution_count": 25,
      "metadata": {
        "colab": {
          "base_uri": "https://localhost:8080/"
        },
        "id": "nsiLjgLjvbty",
        "outputId": "e67e1177-9d64-4163-848d-e86724ba029f"
      },
      "outputs": [
        {
          "output_type": "stream",
          "name": "stdout",
          "text": [
            "True\n",
            "True\n"
          ]
        }
      ],
      "source": [
        "def is_english(string):\n",
        "    non_ascii = 0\n",
        "    \n",
        "    for character in string:\n",
        "        if ord(character) > 127:\n",
        "            non_ascii += 1\n",
        "    \n",
        "    if non_ascii > 3:\n",
        "        return False\n",
        "    else:\n",
        "        return True\n",
        "\n",
        "print(is_english('Docs To Go™ Free Office Suite'))\n",
        "print(is_english('Instachat 😜'))"
      ]
    },
    {
      "cell_type": "markdown",
      "metadata": {
        "id": "rVtTxcscvbty"
      },
      "source": [
        "The function is still not perfect, and very few non-English apps might get past our filter, but this seems good enough at this point in our analysis — we shouldn't spend too much time on optimization at this point.\n",
        "\n",
        "Below, we use the is_english() function to filter out the non-English apps for both data sets:"
      ]
    },
    {
      "cell_type": "code",
      "execution_count": 26,
      "metadata": {
        "colab": {
          "base_uri": "https://localhost:8080/"
        },
        "id": "v3vkPKLZvbtz",
        "outputId": "782b1aa5-0d58-4632-af93-933ac4394e5a"
      },
      "outputs": [
        {
          "output_type": "stream",
          "name": "stdout",
          "text": [
            "['Photo Editor & Candy Camera & Grid & ScrapBook', 'ART_AND_DESIGN', '4.1', '159', '19M', '10,000+', 'Free', '0', 'Everyone', 'Art & Design', 'January 7, 2018', '1.0.0', '4.0.3 and up']\n",
            "\n",
            "\n",
            "['U Launcher Lite – FREE Live Cool Themes, Hide Apps', 'ART_AND_DESIGN', '4.7', '87510', '8.7M', '5,000,000+', 'Free', '0', 'Everyone', 'Art & Design', 'August 1, 2018', '1.2.4', '4.0.3 and up']\n",
            "\n",
            "\n",
            "['Sketch - Draw & Paint', 'ART_AND_DESIGN', '4.5', '215644', '25M', '50,000,000+', 'Free', '0', 'Teen', 'Art & Design', 'June 8, 2018', 'Varies with device', '4.2 and up']\n",
            "\n",
            "\n",
            "Number of rows: 9614\n",
            "Number of columns: 13\n",
            "\n",
            "\n",
            "['1', '281656475', 'PAC-MAN Premium', '100788224', 'USD', '3.99', '21292', '26', '4', '4.5', '6.3.5', '4+', 'Games', '38', '5', '10', '1']\n",
            "\n",
            "\n",
            "['2', '281796108', 'Evernote - stay organized', '158578688', 'USD', '0', '161065', '26', '4', '3.5', '8.2.2', '4+', 'Productivity', '37', '5', '23', '1']\n",
            "\n",
            "\n",
            "['3', '281940292', 'WeatherBug - Local Weather, Radar, Maps, Alerts', '100524032', 'USD', '0', '188583', '2822', '3.5', '4.5', '5.0.0', '4+', 'Weather', '37', '5', '3', '1']\n",
            "\n",
            "\n",
            "Number of rows: 7197\n",
            "Number of columns: 17\n"
          ]
        }
      ],
      "source": [
        "\n",
        "\n",
        "android_english = []\n",
        "ios_english = []\n",
        "\n",
        "for app in android_clean:\n",
        "    name = app[0]\n",
        "    if is_english(name):\n",
        "        android_english.append(app)\n",
        "        \n",
        "for app in ios:\n",
        "    name = app[1]\n",
        "    if is_english(name):\n",
        "        ios_english.append(app)\n",
        "        \n",
        "explore_data(android_english, 0, 3, True)\n",
        "print('\\n')\n",
        "explore_data(ios_english, 0, 3, True)"
      ]
    },
    {
      "cell_type": "markdown",
      "metadata": {
        "id": "LMwfzh2bvbtz"
      },
      "source": [
        "\n",
        "We can see that we're left with 9614 Android apps and 6183 iOS apps."
      ]
    },
    {
      "cell_type": "markdown",
      "metadata": {
        "id": "pru7oaIHvbt0"
      },
      "source": [
        "# Isolating the Free Apps\n",
        "As we mentioned in the introduction, we only build apps that are free to download and install, and our main source of revenue consists of in-app ads. Our data sets contain both free and non-free apps, and we'll need to isolate only the free apps for our analysis. Below, we isolate the free apps for both our data sets."
      ]
    },
    {
      "cell_type": "code",
      "execution_count": 27,
      "metadata": {
        "colab": {
          "base_uri": "https://localhost:8080/"
        },
        "id": "rOoxmxqQvbt0",
        "outputId": "be4b68ea-5553-43d3-f066-220ccb07131d"
      },
      "outputs": [
        {
          "output_type": "stream",
          "name": "stdout",
          "text": [
            "8864\n",
            "0\n"
          ]
        }
      ],
      "source": [
        "android_final = []\n",
        "ios_final = []\n",
        "\n",
        "for app in android_english:\n",
        "    price = app[7]\n",
        "    if price == '0':\n",
        "        android_final.append(app)\n",
        "        \n",
        "for app in ios_english:\n",
        "    price = app[4]\n",
        "    if price == '0.0':\n",
        "        ios_final.append(app)\n",
        "        \n",
        "print(len(android_final))\n",
        "print(len(ios_final))"
      ]
    },
    {
      "cell_type": "markdown",
      "metadata": {
        "id": "t-2l6s1ovbt0"
      },
      "source": [
        "We're left with 8864 Android apps and 3222 iOS apps, which should be enough for our analysis."
      ]
    },
    {
      "cell_type": "markdown",
      "metadata": {
        "id": "8WJVc9TQvbt1"
      },
      "source": [
        "# Most Common Apps by Genre\n",
        "## Part One\n",
        "As we mentioned in the introduction, our aim is to determine the kinds of apps that are likely to attract more users because our revenue is highly influenced by the number of people using our apps.\n",
        "\n",
        "To minimize risks and overhead, our validation strategy for an app idea is comprised of three steps:\n",
        "\n",
        "1. Build a minimal Android version of the app, and add it to Google Play.\n",
        "2. If the app has a good response from users, we then develop it further.\n",
        "3. If the app is profitable after six months, we also build an iOS version of the app and add it to the App Store.\n",
        "Because our end goal is to add the app on both the App Store and Google Play, we need to find app profiles that are successful on both markets. For instance, a profile that might work well for both markets might be a productivity app that makes use of gamification.\n",
        "\n",
        "Let's begin the analysis by getting a sense of the most common genres for each market. For this, we'll build a frequency table for the prime_genre column of the App Store data set, and the Genres and Category columns of the Google Play data set.\n",
        "\n",
        "## Part Two\n",
        "We'll build two functions we can use to analyze the frequency tables:\n",
        "\n",
        "* One function to generate frequency tables that show percentages\n",
        "* Another function that we can use to display the percentages in a descending order"
      ]
    },
    {
      "cell_type": "code",
      "execution_count": 28,
      "metadata": {
        "collapsed": true,
        "id": "ziyDFIKPvbt1"
      },
      "outputs": [],
      "source": [
        "\n",
        "def freq_table(dataset, index):\n",
        "    table = {}\n",
        "    total = 0\n",
        "    \n",
        "    for row in dataset:\n",
        "        total += 1\n",
        "        value = row[index]\n",
        "        if value in table:\n",
        "            table[value] += 1\n",
        "        else:\n",
        "            table[value] = 1\n",
        "    \n",
        "    table_percentages = {}\n",
        "    for key in table:\n",
        "        percentage = (table[key] / total) * 100\n",
        "        table_percentages[key] = percentage \n",
        "    \n",
        "    return table_percentages\n",
        "\n",
        "\n",
        "def display_table(dataset, index):\n",
        "    table = freq_table(dataset, index)\n",
        "    table_display = []\n",
        "    for key in table:\n",
        "        key_val_as_tuple = (table[key], key)\n",
        "        table_display.append(key_val_as_tuple)\n",
        "        \n",
        "    table_sorted = sorted(table_display, reverse = True)\n",
        "    for entry in table_sorted:\n",
        "        print(entry[1], ':', entry[0])"
      ]
    },
    {
      "cell_type": "markdown",
      "metadata": {
        "id": "Ojdj5q9Uvbt2"
      },
      "source": [
        "# Part Three\n",
        "We start by examining the frequency table for the prime_genre column of the App Store data set."
      ]
    },
    {
      "cell_type": "code",
      "execution_count": 29,
      "metadata": {
        "id": "SmGJlEEjvbt2"
      },
      "outputs": [],
      "source": [
        "display_table(ios_final, -5)"
      ]
    },
    {
      "cell_type": "markdown",
      "metadata": {
        "id": "w0mXZO-avbt3"
      },
      "source": [
        "We can see that among the free English apps, more than a half (58.16%) are games. Entertainment apps are close to 8%, followed by photo and video apps, which are close to 5%. Only 3.66% of the apps are designed for education, followed by social networking apps which amount for 3.29% of the apps in our data set.\n",
        "\n",
        "The general impression is that App Store (at least the part containing free English apps) is dominated by apps that are designed for fun (games, entertainment, photo and video, social networking, sports, music, etc.), while apps with practical purposes (education, shopping, utilities, productivity, lifestyle, etc.) are more rare. However, the fact that fun apps are the most numerous doesn't also imply that they also have the greatest number of users — the demand might not be the same as the offer.\n",
        "\n",
        "Let's continue by examining the Genres and Category columns of the Google Play data set (two columns which seem to be related)."
      ]
    },
    {
      "cell_type": "code",
      "execution_count": 30,
      "metadata": {
        "colab": {
          "base_uri": "https://localhost:8080/"
        },
        "id": "C14hZS9Rvbt3",
        "outputId": "585d74b8-0d9d-4359-909e-4b119bd6f72a"
      },
      "outputs": [
        {
          "output_type": "stream",
          "name": "stdout",
          "text": [
            "FAMILY : 18.907942238267147\n",
            "GAME : 9.724729241877256\n",
            "TOOLS : 8.461191335740072\n",
            "BUSINESS : 4.591606498194946\n",
            "LIFESTYLE : 3.9034296028880866\n",
            "PRODUCTIVITY : 3.892148014440433\n",
            "FINANCE : 3.7003610108303246\n",
            "MEDICAL : 3.531137184115524\n",
            "SPORTS : 3.395758122743682\n",
            "PERSONALIZATION : 3.3167870036101084\n",
            "COMMUNICATION : 3.2378158844765346\n",
            "HEALTH_AND_FITNESS : 3.0798736462093865\n",
            "PHOTOGRAPHY : 2.944494584837545\n",
            "NEWS_AND_MAGAZINES : 2.7978339350180503\n",
            "SOCIAL : 2.6624548736462095\n",
            "TRAVEL_AND_LOCAL : 2.33528880866426\n",
            "SHOPPING : 2.2450361010830324\n",
            "BOOKS_AND_REFERENCE : 2.1435018050541514\n",
            "DATING : 1.861462093862816\n",
            "VIDEO_PLAYERS : 1.7937725631768955\n",
            "MAPS_AND_NAVIGATION : 1.3989169675090252\n",
            "FOOD_AND_DRINK : 1.2409747292418771\n",
            "EDUCATION : 1.1620036101083033\n",
            "ENTERTAINMENT : 0.9589350180505415\n",
            "LIBRARIES_AND_DEMO : 0.9363718411552346\n",
            "AUTO_AND_VEHICLES : 0.9250902527075812\n",
            "HOUSE_AND_HOME : 0.8235559566787004\n",
            "WEATHER : 0.8009927797833934\n",
            "EVENTS : 0.7107400722021661\n",
            "PARENTING : 0.6543321299638989\n",
            "ART_AND_DESIGN : 0.6430505415162455\n",
            "COMICS : 0.6204873646209386\n",
            "BEAUTY : 0.5979241877256317\n"
          ]
        }
      ],
      "source": [
        "display_table(android_final, 1) # Category"
      ]
    },
    {
      "cell_type": "markdown",
      "metadata": {
        "id": "PFQQt5Kpvbt4"
      },
      "source": [
        "The landscape seems significantly different on Google Play: there are not that many apps designed for fun, and it seems that a good number of apps are designed for practical purposes (family, tools, business, lifestyle, productivity, etc.). However, if we investigate this further, we can see that the family category (which accounts for almost 19% of the apps) means mostly games for kids.\n",
        "Even so, practical apps seem to have a better representation on Google Play compared to App Store.\n",
        "Let's examine Genres column"
      ]
    },
    {
      "cell_type": "code",
      "execution_count": 31,
      "metadata": {
        "colab": {
          "base_uri": "https://localhost:8080/"
        },
        "id": "30hjyp5Hvbt4",
        "outputId": "0d154359-3c2a-4b8a-bdc2-f156abfba0f6"
      },
      "outputs": [
        {
          "output_type": "stream",
          "name": "stdout",
          "text": [
            "Tools : 8.449909747292418\n",
            "Entertainment : 6.069494584837545\n",
            "Education : 5.347472924187725\n",
            "Business : 4.591606498194946\n",
            "Productivity : 3.892148014440433\n",
            "Lifestyle : 3.892148014440433\n",
            "Finance : 3.7003610108303246\n",
            "Medical : 3.531137184115524\n",
            "Sports : 3.463447653429603\n",
            "Personalization : 3.3167870036101084\n",
            "Communication : 3.2378158844765346\n",
            "Action : 3.1024368231046933\n",
            "Health & Fitness : 3.0798736462093865\n",
            "Photography : 2.944494584837545\n",
            "News & Magazines : 2.7978339350180503\n",
            "Social : 2.6624548736462095\n",
            "Travel & Local : 2.3240072202166067\n",
            "Shopping : 2.2450361010830324\n",
            "Books & Reference : 2.1435018050541514\n",
            "Simulation : 2.0419675090252705\n",
            "Dating : 1.861462093862816\n",
            "Arcade : 1.8501805054151623\n",
            "Video Players & Editors : 1.7712093862815883\n",
            "Casual : 1.7599277978339352\n",
            "Maps & Navigation : 1.3989169675090252\n",
            "Food & Drink : 1.2409747292418771\n",
            "Puzzle : 1.128158844765343\n",
            "Racing : 0.9927797833935018\n",
            "Role Playing : 0.9363718411552346\n",
            "Libraries & Demo : 0.9363718411552346\n",
            "Auto & Vehicles : 0.9250902527075812\n",
            "Strategy : 0.9138086642599278\n",
            "House & Home : 0.8235559566787004\n",
            "Weather : 0.8009927797833934\n",
            "Events : 0.7107400722021661\n",
            "Adventure : 0.6768953068592057\n",
            "Comics : 0.6092057761732852\n",
            "Beauty : 0.5979241877256317\n",
            "Art & Design : 0.5979241877256317\n",
            "Parenting : 0.4963898916967509\n",
            "Card : 0.45126353790613716\n",
            "Casino : 0.42870036101083037\n",
            "Trivia : 0.41741877256317694\n",
            "Educational;Education : 0.39485559566787\n",
            "Board : 0.3835740072202166\n",
            "Educational : 0.3722924187725632\n",
            "Education;Education : 0.33844765342960287\n",
            "Word : 0.2594765342960289\n",
            "Casual;Pretend Play : 0.236913357400722\n",
            "Music : 0.2030685920577617\n",
            "Racing;Action & Adventure : 0.16922382671480143\n",
            "Puzzle;Brain Games : 0.16922382671480143\n",
            "Entertainment;Music & Video : 0.16922382671480143\n",
            "Casual;Brain Games : 0.13537906137184114\n",
            "Casual;Action & Adventure : 0.13537906137184114\n",
            "Arcade;Action & Adventure : 0.12409747292418773\n",
            "Action;Action & Adventure : 0.10153429602888085\n",
            "Educational;Pretend Play : 0.09025270758122744\n",
            "Simulation;Action & Adventure : 0.078971119133574\n",
            "Parenting;Education : 0.078971119133574\n",
            "Entertainment;Brain Games : 0.078971119133574\n",
            "Board;Brain Games : 0.078971119133574\n",
            "Parenting;Music & Video : 0.06768953068592057\n",
            "Educational;Brain Games : 0.06768953068592057\n",
            "Casual;Creativity : 0.06768953068592057\n",
            "Art & Design;Creativity : 0.06768953068592057\n",
            "Education;Pretend Play : 0.056407942238267145\n",
            "Role Playing;Pretend Play : 0.04512635379061372\n",
            "Education;Creativity : 0.04512635379061372\n",
            "Role Playing;Action & Adventure : 0.033844765342960284\n",
            "Puzzle;Action & Adventure : 0.033844765342960284\n",
            "Entertainment;Creativity : 0.033844765342960284\n",
            "Entertainment;Action & Adventure : 0.033844765342960284\n",
            "Educational;Creativity : 0.033844765342960284\n",
            "Educational;Action & Adventure : 0.033844765342960284\n",
            "Education;Music & Video : 0.033844765342960284\n",
            "Education;Brain Games : 0.033844765342960284\n",
            "Education;Action & Adventure : 0.033844765342960284\n",
            "Adventure;Action & Adventure : 0.033844765342960284\n",
            "Video Players & Editors;Music & Video : 0.02256317689530686\n",
            "Sports;Action & Adventure : 0.02256317689530686\n",
            "Simulation;Pretend Play : 0.02256317689530686\n",
            "Puzzle;Creativity : 0.02256317689530686\n",
            "Music;Music & Video : 0.02256317689530686\n",
            "Entertainment;Pretend Play : 0.02256317689530686\n",
            "Casual;Education : 0.02256317689530686\n",
            "Board;Action & Adventure : 0.02256317689530686\n",
            "Video Players & Editors;Creativity : 0.01128158844765343\n",
            "Trivia;Education : 0.01128158844765343\n",
            "Travel & Local;Action & Adventure : 0.01128158844765343\n",
            "Tools;Education : 0.01128158844765343\n",
            "Strategy;Education : 0.01128158844765343\n",
            "Strategy;Creativity : 0.01128158844765343\n",
            "Strategy;Action & Adventure : 0.01128158844765343\n",
            "Simulation;Education : 0.01128158844765343\n",
            "Role Playing;Brain Games : 0.01128158844765343\n",
            "Racing;Pretend Play : 0.01128158844765343\n",
            "Puzzle;Education : 0.01128158844765343\n",
            "Parenting;Brain Games : 0.01128158844765343\n",
            "Music & Audio;Music & Video : 0.01128158844765343\n",
            "Lifestyle;Pretend Play : 0.01128158844765343\n",
            "Lifestyle;Education : 0.01128158844765343\n",
            "Health & Fitness;Education : 0.01128158844765343\n",
            "Health & Fitness;Action & Adventure : 0.01128158844765343\n",
            "Entertainment;Education : 0.01128158844765343\n",
            "Communication;Creativity : 0.01128158844765343\n",
            "Comics;Creativity : 0.01128158844765343\n",
            "Casual;Music & Video : 0.01128158844765343\n",
            "Card;Action & Adventure : 0.01128158844765343\n",
            "Books & Reference;Education : 0.01128158844765343\n",
            "Art & Design;Pretend Play : 0.01128158844765343\n",
            "Art & Design;Action & Adventure : 0.01128158844765343\n",
            "Arcade;Pretend Play : 0.01128158844765343\n",
            "Adventure;Education : 0.01128158844765343\n"
          ]
        }
      ],
      "source": [
        "display_table(android_final, -4) #Genres"
      ]
    },
    {
      "cell_type": "markdown",
      "metadata": {
        "id": "9TbAeKR3vbt5"
      },
      "source": [
        "The difference between the Genres and the Category columns is not crystal clear, but one thing we can notice is that the Genres column is much more granular (it has more categories). We're only looking for the bigger picture at the moment, so we'll only work with the Category column moving forward.\n",
        "\n",
        "Up to this point, we found that the App Store is dominated by apps designed for fun, while Google Play shows a more balanced landscape of both practical and for-fun apps. Now we'd like to get an idea about the kind of apps that have most users."
      ]
    },
    {
      "cell_type": "markdown",
      "metadata": {
        "id": "Qd0AEhoyvbt6"
      },
      "source": [
        "# Most Popular Apps by Genre on the App Store\n",
        "One way to find out what genres are the most popular (have the most users) is to calculate the average number of installs for each app genre. For the Google Play data set, we can find this information in the Installs column, but for the App Store data set this information is missing. As a workaround, we'll take the total number of user ratings as a proxy, which we can find in the rating_count_tot app.\n",
        "\n",
        "Below, we calculate the average number of user ratings per app genre on the App Store:"
      ]
    },
    {
      "cell_type": "code",
      "execution_count": 32,
      "metadata": {
        "id": "ZUhYGCNZvbt6"
      },
      "outputs": [],
      "source": [
        "\n",
        "genres_ios = freq_table(ios_final, -5)\n",
        "\n",
        "for genre in genres_ios:\n",
        "    total = 0\n",
        "    len_genre = 0\n",
        "    for app in ios_final:\n",
        "        genre_app = app[-5]\n",
        "        if genre_app == genre:            \n",
        "            n_ratings = float(app[5])\n",
        "            total += n_ratings\n",
        "            len_genre += 1\n",
        "    avg_n_ratings = total / len_genre\n",
        "    print(genre, ':', avg_n_ratings)"
      ]
    },
    {
      "cell_type": "markdown",
      "metadata": {
        "id": "qpT4K6gtvbt6"
      },
      "source": [
        "\n",
        "On average, navigation apps have the highest number of user reviews, but this figure is heavily influenced by Waze and Google Maps, which have close to half a million user reviews together:"
      ]
    },
    {
      "cell_type": "code",
      "execution_count": 33,
      "metadata": {
        "id": "auUGz3edvbt7"
      },
      "outputs": [],
      "source": [
        "\n",
        "for app in ios_final:\n",
        "    if app[-5] == 'Navigation':\n",
        "        print(app[1], ':', app[5]) # print name and number of ratings"
      ]
    },
    {
      "cell_type": "markdown",
      "metadata": {
        "id": "FnUIsfrSvbt8"
      },
      "source": [
        "\n",
        "The same pattern applies to social networking apps, where the average number is heavily influenced by a few giants like Facebook, Pinterest, Skype, etc. Same applies to music apps, where a few big players like Pandora, Spotify, and Shazam heavily influence the average number.\n",
        "\n",
        "Our aim is to find popular genres, but navigation, social networking or music apps might seem more popular than they really are. The average number of ratings seem to be skewed by very few apps which have hundreds of thousands of user ratings, while the other apps may struggle to get past the 10,000 threshold. We could get a better picture by removing these extremely popular apps for each genre and then rework the averages, but we'll leave this level of detail for later.\n",
        "\n",
        "Reference apps have 74,942 user ratings on average, but it's actually the Bible and Dictionary.com which skew up the average rating:"
      ]
    },
    {
      "cell_type": "code",
      "execution_count": 34,
      "metadata": {
        "id": "biC56uAxvbt8"
      },
      "outputs": [],
      "source": [
        "\n",
        "for app in ios_final:\n",
        "    if app[-5] == 'Reference':\n",
        "        print(app[1], ':', app[5])"
      ]
    },
    {
      "cell_type": "markdown",
      "metadata": {
        "id": "soD9eM27vbt9"
      },
      "source": [
        "\n",
        "However, this niche seems to show some potential. One thing we could do is take another popular book and turn it into an app where we could add different features besides the raw version of the book. This might include daily quotes from the book, an audio version of the book, quizzes about the book, etc. On top of that, we could also embed a dictionary within the app, so users don't need to exit our app to look up words in an external app.\n",
        "\n",
        "This idea seems to fit well with the fact that the App Store is dominated by for-fun apps. This suggests the market might be a bit saturated with for-fun apps, which means a practical app might have more of a chance to stand out among the huge number of apps on the App Store.\n",
        "\n",
        "Other genres that seem popular include weather, book, food and drink, or finance. The book genre seem to overlap a bit with the app idea we described above, but the other genres don't seem too interesting to us:\n",
        "\n",
        "Weather apps — people generally don't spend too much time in-app, and the chances of making profit from in-app adds are low. Also, getting reliable live weather data may require us to connect our apps to non-free APIs.\n",
        "\n",
        "Food and drink — examples here include Starbucks, Dunkin' Donuts, McDonald's, etc. So making a popular food and drink app requires actual cooking and a delivery service, which is outside the scope of our company.\n",
        "\n",
        "Finance apps — these apps involve banking, paying bills, money transfer, etc. Building a finance app requires domain knowledge, and we don't want to hire a finance expert just to build an app.\n",
        "\n",
        "Now let's analyze the Google Play market a bit.\n"
      ]
    },
    {
      "cell_type": "markdown",
      "metadata": {
        "id": "DELcm6dXvbt9"
      },
      "source": [
        "# Most Popular Apps by Genre on Google Play\n",
        "For the Google Play market, we actually have data about the number of installs, so we should be able to get a clearer picture about genre popularity. However, the install numbers don't seem precise enough — we can see that most values are open-ended (100+, 1,000+, 5,000+, etc.):\n",
        "\n"
      ]
    },
    {
      "cell_type": "code",
      "execution_count": 35,
      "metadata": {
        "colab": {
          "base_uri": "https://localhost:8080/"
        },
        "id": "cr8lb9oGvbt-",
        "outputId": "a93e437b-28c4-46fc-bf99-0590fbd1ceff"
      },
      "outputs": [
        {
          "output_type": "stream",
          "name": "stdout",
          "text": [
            "1,000,000+ : 15.726534296028879\n",
            "100,000+ : 11.552346570397113\n",
            "10,000,000+ : 10.548285198555957\n",
            "10,000+ : 10.198555956678701\n",
            "1,000+ : 8.393501805054152\n",
            "100+ : 6.915613718411552\n",
            "5,000,000+ : 6.825361010830325\n",
            "500,000+ : 5.561823104693141\n",
            "50,000+ : 4.7721119133574\n",
            "5,000+ : 4.512635379061372\n",
            "10+ : 3.5424187725631766\n",
            "500+ : 3.2490974729241873\n",
            "50,000,000+ : 2.3014440433213\n",
            "100,000,000+ : 2.1322202166064983\n",
            "50+ : 1.917870036101083\n",
            "5+ : 0.78971119133574\n",
            "1+ : 0.5076714801444043\n",
            "500,000,000+ : 0.2707581227436823\n",
            "1,000,000,000+ : 0.22563176895306858\n",
            "0+ : 0.04512635379061372\n",
            "0 : 0.01128158844765343\n"
          ]
        }
      ],
      "source": [
        "display_table(android_final, 5) # the Installs columns"
      ]
    },
    {
      "cell_type": "markdown",
      "metadata": {
        "id": "l87aUYqsvbt-"
      },
      "source": [
        "One problem with this data is that is not precise. For instance, we don't know whether an app with 100,000+ installs has 100,000 installs, 200,000, or 350,000. However, we don't need very precise data for our purposes — we only want to get an idea which app genres attract the most users, and we don't need perfect precision with respect to the number of users.\n",
        "\n",
        "We're going to leave the numbers as they are, which means that we'll consider that an app with 100,000+ installs has 100,000 installs, and an app with 1,000,000+ installs has 1,000,000 installs, and so on.\n",
        "\n",
        "To perform computations, however, we'll need to convert each install number to float — this means that we need to remove the commas and the plus characters, otherwise the conversion will fail and raise an error. We'll do this directly in the loop below, where we also compute the average number of installs for each genre (category)."
      ]
    },
    {
      "cell_type": "code",
      "execution_count": 36,
      "metadata": {
        "colab": {
          "base_uri": "https://localhost:8080/"
        },
        "id": "s_1d9e_7vbt_",
        "outputId": "e0dc3c8f-9ccd-4bb1-aceb-1df121111ad1"
      },
      "outputs": [
        {
          "output_type": "stream",
          "name": "stdout",
          "text": [
            "ART_AND_DESIGN : 1986335.0877192982\n",
            "AUTO_AND_VEHICLES : 647317.8170731707\n",
            "BEAUTY : 513151.88679245283\n",
            "BOOKS_AND_REFERENCE : 8767811.894736841\n",
            "BUSINESS : 1712290.1474201474\n",
            "COMICS : 817657.2727272727\n",
            "COMMUNICATION : 38456119.167247385\n",
            "DATING : 854028.8303030303\n",
            "EDUCATION : 1833495.145631068\n",
            "ENTERTAINMENT : 11640705.88235294\n",
            "EVENTS : 253542.22222222222\n",
            "FINANCE : 1387692.475609756\n",
            "FOOD_AND_DRINK : 1924897.7363636363\n",
            "HEALTH_AND_FITNESS : 4188821.9853479853\n",
            "HOUSE_AND_HOME : 1331540.5616438356\n",
            "LIBRARIES_AND_DEMO : 638503.734939759\n",
            "LIFESTYLE : 1437816.2687861272\n",
            "GAME : 15588015.603248259\n",
            "FAMILY : 3695641.8198090694\n",
            "MEDICAL : 120550.61980830671\n",
            "SOCIAL : 23253652.127118643\n",
            "SHOPPING : 7036877.311557789\n",
            "PHOTOGRAPHY : 17840110.40229885\n",
            "SPORTS : 3638640.1428571427\n",
            "TRAVEL_AND_LOCAL : 13984077.710144928\n",
            "TOOLS : 10801391.298666667\n",
            "PERSONALIZATION : 5201482.6122448975\n",
            "PRODUCTIVITY : 16787331.344927534\n",
            "PARENTING : 542603.6206896552\n",
            "WEATHER : 5074486.197183099\n",
            "VIDEO_PLAYERS : 24727872.452830188\n",
            "NEWS_AND_MAGAZINES : 9549178.467741935\n",
            "MAPS_AND_NAVIGATION : 4056941.7741935486\n"
          ]
        }
      ],
      "source": [
        "categories_android = freq_table(android_final, 1)\n",
        "\n",
        "for category in categories_android:\n",
        "    total = 0\n",
        "    len_category = 0\n",
        "    for app in android_final:\n",
        "        category_app = app[1]\n",
        "        if category_app == category:            \n",
        "            n_installs = app[5]\n",
        "            n_installs = n_installs.replace(',', '')\n",
        "            n_installs = n_installs.replace('+', '')\n",
        "            total += float(n_installs)\n",
        "            len_category += 1\n",
        "    avg_n_installs = total / len_category\n",
        "    print(category, ':', avg_n_installs)"
      ]
    },
    {
      "cell_type": "markdown",
      "metadata": {
        "id": "XeyYB6hovbt_"
      },
      "source": [
        "On average, communication apps have the most installs: 38,456,119. This number is heavily skewed up by a few apps that have over one billion installs (WhatsApp, Facebook Messenger, Skype, Google Chrome, Gmail, and Hangouts), and a few others with over 100 and 500 million installs:"
      ]
    },
    {
      "cell_type": "code",
      "execution_count": 37,
      "metadata": {
        "colab": {
          "base_uri": "https://localhost:8080/"
        },
        "id": "utCG52MpvbuA",
        "outputId": "5e63f12d-e289-4b4a-9b8b-4e5b3a657de7"
      },
      "outputs": [
        {
          "output_type": "stream",
          "name": "stdout",
          "text": [
            "WhatsApp Messenger : 1,000,000,000+\n",
            "imo beta free calls and text : 100,000,000+\n",
            "Android Messages : 100,000,000+\n",
            "Google Duo - High Quality Video Calls : 500,000,000+\n",
            "Messenger – Text and Video Chat for Free : 1,000,000,000+\n",
            "imo free video calls and chat : 500,000,000+\n",
            "Skype - free IM & video calls : 1,000,000,000+\n",
            "Who : 100,000,000+\n",
            "GO SMS Pro - Messenger, Free Themes, Emoji : 100,000,000+\n",
            "LINE: Free Calls & Messages : 500,000,000+\n",
            "Google Chrome: Fast & Secure : 1,000,000,000+\n",
            "Firefox Browser fast & private : 100,000,000+\n",
            "UC Browser - Fast Download Private & Secure : 500,000,000+\n",
            "Gmail : 1,000,000,000+\n",
            "Hangouts : 1,000,000,000+\n",
            "Messenger Lite: Free Calls & Messages : 100,000,000+\n",
            "Kik : 100,000,000+\n",
            "KakaoTalk: Free Calls & Text : 100,000,000+\n",
            "Opera Mini - fast web browser : 100,000,000+\n",
            "Opera Browser: Fast and Secure : 100,000,000+\n",
            "Telegram : 100,000,000+\n",
            "Truecaller: Caller ID, SMS spam blocking & Dialer : 100,000,000+\n",
            "UC Browser Mini -Tiny Fast Private & Secure : 100,000,000+\n",
            "Viber Messenger : 500,000,000+\n",
            "WeChat : 100,000,000+\n",
            "Yahoo Mail – Stay Organized : 100,000,000+\n",
            "BBM - Free Calls & Messages : 100,000,000+\n"
          ]
        }
      ],
      "source": [
        "for app in android_final:\n",
        "    if app[1] == 'COMMUNICATION' and (app[5] == '1,000,000,000+'\n",
        "                                      or app[5] == '500,000,000+'\n",
        "                                      or app[5] == '100,000,000+'):\n",
        "        print(app[0], ':', app[5])"
      ]
    },
    {
      "cell_type": "markdown",
      "metadata": {
        "id": "iaiZUSChvbuA"
      },
      "source": [
        "If we removed all the communication apps that have over 100 million installs, the average would be reduced roughly ten times:"
      ]
    },
    {
      "cell_type": "code",
      "execution_count": 38,
      "metadata": {
        "colab": {
          "base_uri": "https://localhost:8080/"
        },
        "id": "VmIXqJWqvbuB",
        "outputId": "350dbf3c-2c37-45bc-90ea-71603d5dbab2"
      },
      "outputs": [
        {
          "output_type": "execute_result",
          "data": {
            "text/plain": [
              "3603485.3884615386"
            ]
          },
          "metadata": {},
          "execution_count": 38
        }
      ],
      "source": [
        "under_100_m = []\n",
        "\n",
        "for app in android_final:\n",
        "    n_installs = app[5]\n",
        "    n_installs = n_installs.replace(',', '')\n",
        "    n_installs = n_installs.replace('+', '')\n",
        "    if (app[1] == 'COMMUNICATION') and (float(n_installs) < 100000000):\n",
        "        under_100_m.append(float(n_installs))\n",
        "        \n",
        "sum(under_100_m) / len(under_100_m)"
      ]
    },
    {
      "cell_type": "markdown",
      "metadata": {
        "id": "_t9m0BBHvbuB"
      },
      "source": [
        "\n",
        "We see the same pattern for the video players category, which is the runner-up with 24,727,872 installs. The market is dominated by apps like Youtube, Google Play Movies & TV, or MX Player. The pattern is repeated for social apps (where we have giants like Facebook, Instagram, Google+, etc.), photography apps (Google Photos and other popular photo editors), or productivity apps (Microsoft Word, Dropbox, Google Calendar, Evernote, etc.).\n",
        "\n",
        "Again, the main concern is that these app genres might seem more popular than they really are. Moreover, these niches seem to be dominated by a few giants who are hard to compete against.\n",
        "\n",
        "The game genre seems pretty popular, but previously we found out this part of the market seems a bit saturated, so we'd like to come up with a different app recommendation if possible.\n",
        "\n",
        "The books and reference genre looks fairly popular as well, with an average number of installs of 8,767,811. It's interesting to explore this in more depth, since we found this genre has some potential to work well on the App Store, and our aim is to recommend an app genre that shows potential for being profitable on both the App Store and Google Play.\n",
        "\n",
        "Let's take a look at some of the apps from this genre and their number of installs:"
      ]
    },
    {
      "cell_type": "code",
      "execution_count": 39,
      "metadata": {
        "colab": {
          "base_uri": "https://localhost:8080/"
        },
        "id": "e8ctAfEAvbuC",
        "outputId": "20d0f1bd-3e6d-4bf2-dd80-b832bf90b80c"
      },
      "outputs": [
        {
          "output_type": "stream",
          "name": "stdout",
          "text": [
            "E-Book Read - Read Book for free : 50,000+\n",
            "Download free book with green book : 100,000+\n",
            "Wikipedia : 10,000,000+\n",
            "Cool Reader : 10,000,000+\n",
            "Free Panda Radio Music : 100,000+\n",
            "Book store : 1,000,000+\n",
            "FBReader: Favorite Book Reader : 10,000,000+\n",
            "English Grammar Complete Handbook : 500,000+\n",
            "Free Books - Spirit Fanfiction and Stories : 1,000,000+\n",
            "Google Play Books : 1,000,000,000+\n",
            "AlReader -any text book reader : 5,000,000+\n",
            "Offline English Dictionary : 100,000+\n",
            "Offline: English to Tagalog Dictionary : 500,000+\n",
            "FamilySearch Tree : 1,000,000+\n",
            "Cloud of Books : 1,000,000+\n",
            "Recipes of Prophetic Medicine for free : 500,000+\n",
            "ReadEra – free ebook reader : 1,000,000+\n",
            "Anonymous caller detection : 10,000+\n",
            "Ebook Reader : 5,000,000+\n",
            "Litnet - E-books : 100,000+\n",
            "Read books online : 5,000,000+\n",
            "English to Urdu Dictionary : 500,000+\n",
            "eBoox: book reader fb2 epub zip : 1,000,000+\n",
            "English Persian Dictionary : 500,000+\n",
            "Flybook : 500,000+\n",
            "All Maths Formulas : 1,000,000+\n",
            "Ancestry : 5,000,000+\n",
            "HTC Help : 10,000,000+\n",
            "English translation from Bengali : 100,000+\n",
            "Pdf Book Download - Read Pdf Book : 100,000+\n",
            "Free Book Reader : 100,000+\n",
            "eBoox new: Reader for fb2 epub zip books : 50,000+\n",
            "Only 30 days in English, the guideline is guaranteed : 500,000+\n",
            "Moon+ Reader : 10,000,000+\n",
            "SH-02J Owner's Manual (Android 8.0) : 50,000+\n",
            "English-Myanmar Dictionary : 1,000,000+\n",
            "Golden Dictionary (EN-AR) : 1,000,000+\n",
            "All Language Translator Free : 1,000,000+\n",
            "Azpen eReader : 500,000+\n",
            "URBANO V 02 instruction manual : 100,000+\n",
            "Bible : 100,000,000+\n",
            "C Programs and Reference : 50,000+\n",
            "C Offline Tutorial : 1,000+\n",
            "C Programs Handbook : 50,000+\n",
            "Amazon Kindle : 100,000,000+\n",
            "Aab e Hayat Full Novel : 100,000+\n",
            "Aldiko Book Reader : 10,000,000+\n",
            "Google I/O 2018 : 500,000+\n",
            "R Language Reference Guide : 10,000+\n",
            "Learn R Programming Full : 5,000+\n",
            "R Programing Offline Tutorial : 1,000+\n",
            "Guide for R Programming : 5+\n",
            "Learn R Programming : 10+\n",
            "R Quick Reference Big Data : 1,000+\n",
            "V Made : 100,000+\n",
            "Wattpad 📖 Free Books : 100,000,000+\n",
            "Dictionary - WordWeb : 5,000,000+\n",
            "Guide (for X-MEN) : 100,000+\n",
            "AC Air condition Troubleshoot,Repair,Maintenance : 5,000+\n",
            "AE Bulletins : 1,000+\n",
            "Ae Allah na Dai (Rasa) : 10,000+\n",
            "50000 Free eBooks & Free AudioBooks : 5,000,000+\n",
            "Ag PhD Field Guide : 10,000+\n",
            "Ag PhD Deficiencies : 10,000+\n",
            "Ag PhD Planting Population Calculator : 1,000+\n",
            "Ag PhD Soybean Diseases : 1,000+\n",
            "Fertilizer Removal By Crop : 50,000+\n",
            "A-J Media Vault : 50+\n",
            "Al-Quran (Free) : 10,000,000+\n",
            "Al Quran (Tafsir & by Word) : 500,000+\n",
            "Al Quran Indonesia : 10,000,000+\n",
            "Al'Quran Bahasa Indonesia : 10,000,000+\n",
            "Al Quran Al karim : 1,000,000+\n",
            "Al-Muhaffiz : 50,000+\n",
            "Al Quran : EAlim - Translations & MP3 Offline : 5,000,000+\n",
            "Al-Quran 30 Juz free copies : 500,000+\n",
            "Koran Read &MP3 30 Juz Offline : 1,000,000+\n",
            "Hafizi Quran 15 lines per page : 1,000,000+\n",
            "Quran for Android : 10,000,000+\n",
            "Surah Al-Waqiah : 100,000+\n",
            "Hisnul Al Muslim - Hisn Invocations & Adhkaar : 100,000+\n",
            "Satellite AR : 1,000,000+\n",
            "Audiobooks from Audible : 100,000,000+\n",
            "Kinot & Eichah for Tisha B'Av : 10,000+\n",
            "AW Tozer Devotionals - Daily : 5,000+\n",
            "Tozer Devotional -Series 1 : 1,000+\n",
            "The Pursuit of God : 1,000+\n",
            "AY Sing : 5,000+\n",
            "Ay Hasnain k Nana Milad Naat : 10,000+\n",
            "Ay Mohabbat Teri Khatir Novel : 10,000+\n",
            "Arizona Statutes, ARS (AZ Law) : 1,000+\n",
            "Oxford A-Z of English Usage : 1,000,000+\n",
            "BD Fishpedia : 1,000+\n",
            "BD All Sim Offer : 10,000+\n",
            "Youboox - Livres, BD et magazines : 500,000+\n",
            "B&H Kids AR : 10,000+\n",
            "B y H Niños ES : 5,000+\n",
            "Dictionary.com: Find Definitions for English Words : 10,000,000+\n",
            "English Dictionary - Offline : 10,000,000+\n",
            "Bible KJV : 5,000,000+\n",
            "Borneo Bible, BM Bible : 10,000+\n",
            "MOD Black for BM : 100+\n",
            "BM Box : 1,000+\n",
            "Anime Mod for BM : 100+\n",
            "NOOK: Read eBooks & Magazines : 10,000,000+\n",
            "NOOK Audiobooks : 500,000+\n",
            "NOOK App for NOOK Devices : 500,000+\n",
            "Browsery by Barnes & Noble : 5,000+\n",
            "bp e-store : 1,000+\n",
            "Brilliant Quotes: Life, Love, Family & Motivation : 1,000,000+\n",
            "BR Ambedkar Biography & Quotes : 10,000+\n",
            "BU Alsace : 100+\n",
            "Catholic La Bu Zo Kam : 500+\n",
            "Khrifa Hla Bu (Solfa) : 10+\n",
            "Kristian Hla Bu : 10,000+\n",
            "SA HLA BU : 1,000+\n",
            "Learn SAP BW : 500+\n",
            "Learn SAP BW on HANA : 500+\n",
            "CA Laws 2018 (California Laws and Codes) : 5,000+\n",
            "Bootable Methods(USB-CD-DVD) : 10,000+\n",
            "cloudLibrary : 100,000+\n",
            "SDA Collegiate Quarterly : 500+\n",
            "Sabbath School : 100,000+\n",
            "Cypress College Library : 100+\n",
            "Stats Royale for Clash Royale : 1,000,000+\n",
            "GATE 21 years CS Papers(2011-2018 Solved) : 50+\n",
            "Learn CT Scan Of Head : 5,000+\n",
            "Easy Cv maker 2018 : 10,000+\n",
            "How to Write CV : 100,000+\n",
            "CW Nuclear : 1,000+\n",
            "CY Spray nozzle : 10+\n",
            "BibleRead En Cy Zh Yue : 5+\n",
            "CZ-Help : 5+\n",
            "Modlitební knížka CZ : 500+\n",
            "Guide for DB Xenoverse : 10,000+\n",
            "Guide for DB Xenoverse 2 : 10,000+\n",
            "Guide for IMS DB : 10+\n",
            "DC HSEMA : 5,000+\n",
            "DC Public Library : 1,000+\n",
            "Painting Lulu DC Super Friends : 1,000+\n",
            "Dictionary : 10,000,000+\n",
            "Fix Error Google Playstore : 1,000+\n",
            "D. H. Lawrence Poems FREE : 1,000+\n",
            "Bilingual Dictionary Audio App : 5,000+\n",
            "DM Screen : 10,000+\n",
            "wikiHow: how to do anything : 1,000,000+\n",
            "Dr. Doug's Tips : 1,000+\n",
            "Bible du Semeur-BDS (French) : 50,000+\n",
            "La citadelle du musulman : 50,000+\n",
            "DV 2019 Entry Guide : 10,000+\n",
            "DV 2019 - EDV Photo & Form : 50,000+\n",
            "DV 2018 Winners Guide : 1,000+\n",
            "EB Annual Meetings : 1,000+\n",
            "EC - AP & Telangana : 5,000+\n",
            "TN Patta Citta & EC : 10,000+\n",
            "AP Stamps and Registration : 10,000+\n",
            "CompactiMa EC pH Calibration : 100+\n",
            "EGW Writings 2 : 100,000+\n",
            "EGW Writings : 1,000,000+\n",
            "Bible with EGW Comments : 100,000+\n",
            "My Little Pony AR Guide : 1,000,000+\n",
            "SDA Sabbath School Quarterly : 500,000+\n",
            "Duaa Ek Ibaadat : 5,000+\n",
            "Spanish English Translator : 10,000,000+\n",
            "Dictionary - Merriam-Webster : 10,000,000+\n",
            "JW Library : 10,000,000+\n",
            "Oxford Dictionary of English : Free : 10,000,000+\n",
            "English Hindi Dictionary : 10,000,000+\n",
            "English to Hindi Dictionary : 5,000,000+\n",
            "EP Research Service : 1,000+\n",
            "Hymnes et Louanges : 100,000+\n",
            "EU Charter : 1,000+\n",
            "EU Data Protection : 1,000+\n",
            "EU IP Codes : 100+\n",
            "EW PDF : 5+\n",
            "BakaReader EX : 100,000+\n",
            "EZ Quran : 50,000+\n",
            "FA Part 1 & 2 Past Papers Solved Free – Offline : 5,000+\n",
            "La Fe de Jesus : 1,000+\n",
            "La Fe de Jesús : 500+\n",
            "Le Fe de Jesus : 500+\n",
            "Florida - Pocket Brainbook : 1,000+\n",
            "Florida Statutes (FL Code) : 1,000+\n",
            "English To Shona Dictionary : 10,000+\n",
            "Greek Bible FP (Audio) : 1,000+\n",
            "Golden Dictionary (FR-AR) : 500,000+\n",
            "Fanfic-FR : 5,000+\n",
            "Bulgarian French Dictionary Fr : 10,000+\n",
            "Chemin (fr) : 1,000+\n",
            "The SCP Foundation DB fr nn5n : 1,000+\n"
          ]
        }
      ],
      "source": [
        "for app in android_final:\n",
        "    if app[1] == 'BOOKS_AND_REFERENCE':\n",
        "        print(app[0], ':', app[5])"
      ]
    },
    {
      "cell_type": "markdown",
      "metadata": {
        "id": "GwOc_G6nvbuC"
      },
      "source": [
        "\n",
        "The book and reference genre includes a variety of apps: software for processing and reading ebooks, various collections of libraries, dictionaries, tutorials on programming or languages, etc. It seems there's still a small number of extremely popular apps that skew the average:"
      ]
    },
    {
      "cell_type": "code",
      "execution_count": 40,
      "metadata": {
        "colab": {
          "base_uri": "https://localhost:8080/"
        },
        "id": "5sSSin3lvbuD",
        "outputId": "b500dfa2-c415-4017-a6d4-91574feb164d"
      },
      "outputs": [
        {
          "output_type": "stream",
          "name": "stdout",
          "text": [
            "Google Play Books : 1,000,000,000+\n",
            "Bible : 100,000,000+\n",
            "Amazon Kindle : 100,000,000+\n",
            "Wattpad 📖 Free Books : 100,000,000+\n",
            "Audiobooks from Audible : 100,000,000+\n"
          ]
        }
      ],
      "source": [
        "for app in android_final:\n",
        "    if app[1] == 'BOOKS_AND_REFERENCE' and (app[5] == '1,000,000,000+'\n",
        "                                            or app[5] == '500,000,000+'\n",
        "                                            or app[5] == '100,000,000+'):\n",
        "        print(app[0], ':', app[5])"
      ]
    },
    {
      "cell_type": "markdown",
      "metadata": {
        "id": "ieepykR2vbuD"
      },
      "source": [
        "\n",
        "However, it looks like there are only a few very popular apps, so this market still shows potential. Let's try to get some app ideas based on the kind of apps that are somewhere in the middle in terms of popularity (between 1,000,000 and 100,000,000 downloads):"
      ]
    },
    {
      "cell_type": "code",
      "execution_count": 41,
      "metadata": {
        "colab": {
          "base_uri": "https://localhost:8080/"
        },
        "id": "YyLQPMhcvbuD",
        "outputId": "92ee9dbb-a9da-4307-eb9f-c9039a29ebc9"
      },
      "outputs": [
        {
          "output_type": "stream",
          "name": "stdout",
          "text": [
            "Wikipedia : 10,000,000+\n",
            "Cool Reader : 10,000,000+\n",
            "Book store : 1,000,000+\n",
            "FBReader: Favorite Book Reader : 10,000,000+\n",
            "Free Books - Spirit Fanfiction and Stories : 1,000,000+\n",
            "AlReader -any text book reader : 5,000,000+\n",
            "FamilySearch Tree : 1,000,000+\n",
            "Cloud of Books : 1,000,000+\n",
            "ReadEra – free ebook reader : 1,000,000+\n",
            "Ebook Reader : 5,000,000+\n",
            "Read books online : 5,000,000+\n",
            "eBoox: book reader fb2 epub zip : 1,000,000+\n",
            "All Maths Formulas : 1,000,000+\n",
            "Ancestry : 5,000,000+\n",
            "HTC Help : 10,000,000+\n",
            "Moon+ Reader : 10,000,000+\n",
            "English-Myanmar Dictionary : 1,000,000+\n",
            "Golden Dictionary (EN-AR) : 1,000,000+\n",
            "All Language Translator Free : 1,000,000+\n",
            "Aldiko Book Reader : 10,000,000+\n",
            "Dictionary - WordWeb : 5,000,000+\n",
            "50000 Free eBooks & Free AudioBooks : 5,000,000+\n",
            "Al-Quran (Free) : 10,000,000+\n",
            "Al Quran Indonesia : 10,000,000+\n",
            "Al'Quran Bahasa Indonesia : 10,000,000+\n",
            "Al Quran Al karim : 1,000,000+\n",
            "Al Quran : EAlim - Translations & MP3 Offline : 5,000,000+\n",
            "Koran Read &MP3 30 Juz Offline : 1,000,000+\n",
            "Hafizi Quran 15 lines per page : 1,000,000+\n",
            "Quran for Android : 10,000,000+\n",
            "Satellite AR : 1,000,000+\n",
            "Oxford A-Z of English Usage : 1,000,000+\n",
            "Dictionary.com: Find Definitions for English Words : 10,000,000+\n",
            "English Dictionary - Offline : 10,000,000+\n",
            "Bible KJV : 5,000,000+\n",
            "NOOK: Read eBooks & Magazines : 10,000,000+\n",
            "Brilliant Quotes: Life, Love, Family & Motivation : 1,000,000+\n",
            "Stats Royale for Clash Royale : 1,000,000+\n",
            "Dictionary : 10,000,000+\n",
            "wikiHow: how to do anything : 1,000,000+\n",
            "EGW Writings : 1,000,000+\n",
            "My Little Pony AR Guide : 1,000,000+\n",
            "Spanish English Translator : 10,000,000+\n",
            "Dictionary - Merriam-Webster : 10,000,000+\n",
            "JW Library : 10,000,000+\n",
            "Oxford Dictionary of English : Free : 10,000,000+\n",
            "English Hindi Dictionary : 10,000,000+\n",
            "English to Hindi Dictionary : 5,000,000+\n"
          ]
        }
      ],
      "source": [
        "for app in android_final:\n",
        "    if app[1] == 'BOOKS_AND_REFERENCE' and (app[5] == '1,000,000+'\n",
        "                                            or app[5] == '5,000,000+'\n",
        "                                            or app[5] == '10,000,000+'\n",
        "                                            or app[5] == '50,000,000+'):\n",
        "        print(app[0], ':', app[5])"
      ]
    },
    {
      "cell_type": "markdown",
      "metadata": {
        "id": "KeXlGArsvbuE"
      },
      "source": [
        "This niche seems to be dominated by software for processing and reading ebooks, as well as various collections of libraries and dictionaries, so it's probably not a good idea to build similar apps since there'll be some significant competition.\n",
        "\n",
        "We also notice there are quite a few apps built around the book Quran, which suggests that building an app around a popular book can be profitable. It seems that taking a popular book (perhaps a more recent book) and turning it into an app could be profitable for both the Google Play and the App Store markets.\n",
        "\n",
        "However, it looks like the market is already full of libraries, so we need to add some special features besides the raw version of the book. This might include daily quotes from the book, an audio version of the book, quizzes on the book, a forum where people can discuss the book, etc."
      ]
    },
    {
      "cell_type": "markdown",
      "metadata": {
        "id": "t1YELl0EvbuE"
      },
      "source": [
        "# Conclusions\n",
        "In this project, we analyzed data about the App Store and Google Play mobile apps with the goal of recommending an app profile that can be profitable for both markets.\n",
        "\n",
        "We concluded that taking a popular book (perhaps a more recent book) and turning it into an app could be profitable for both the Google Play and the App Store markets. The markets are already full of libraries, so we need to add some special features besides the raw version of the book. This might include daily quotes from the book, an audio version of the book, quizzes on the book, a forum where people can discuss the book, etc."
      ]
    }
  ],
  "metadata": {
    "kernelspec": {
      "display_name": "Python 3",
      "language": "python",
      "name": "python3"
    },
    "language_info": {
      "codemirror_mode": {
        "name": "ipython",
        "version": 3
      },
      "file_extension": ".py",
      "mimetype": "text/x-python",
      "name": "python",
      "nbconvert_exporter": "python",
      "pygments_lexer": "ipython3",
      "version": "3.4.3"
    },
    "colab": {
      "provenance": []
    }
  },
  "nbformat": 4,
  "nbformat_minor": 0
}